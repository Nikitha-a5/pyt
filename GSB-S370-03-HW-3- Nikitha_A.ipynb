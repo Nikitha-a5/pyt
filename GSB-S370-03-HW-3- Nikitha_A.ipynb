{
 "cells": [
  {
   "cell_type": "markdown",
   "metadata": {},
   "source": [
    "#### 1.  Distance Traveled \n",
    "\n",
    "The distance a vehicle travels can be calculated as follows: distance = speed × time \n",
    "\n",
    "For example, if a train travels 40 miles per hour for three hours, the distance traveled is 120 miles. Write a program that asks the user for the speed of a vehicle (in miles per hour) and the number of hours it has traveled. It should then use a loop to display the distance the vehicle has traveled for each hour of that time period. \n",
    "\n",
    "Here is an example of the desired output: \n",
    "\n",
    "What is the speed of the vehicle in mph? 40 \n",
    "\n",
    "How many hours has it traveled? 3 \n",
    "\n",
    "|Hour |Distance Traveled|\n",
    "|-----|-----------------|\n",
    "|1 |40 |\n",
    "|2 |80|\n",
    "|3 |120|\n"
   ]
  },
  {
   "cell_type": "code",
   "execution_count": 1,
   "metadata": {},
   "outputs": [
    {
     "name": "stdout",
     "output_type": "stream",
     "text": [
      "Please input speed:52\n",
      "Please input hours:5\n",
      "1 \t 52\n",
      "2 \t 104\n",
      "3 \t 156\n",
      "4 \t 208\n",
      "5 \t 260\n"
     ]
    }
   ],
   "source": [
    "s = int(input(\"Please input speed:\"))\n",
    "h = int(input(\"Please input hours:\"))\n",
    "d = 0.0\n",
    "for i in range(1,h+1):\n",
    "    d = s*i\n",
    "    print(i,'\\t',d)\n",
    "    i = i +1"
   ]
  },
  {
   "cell_type": "markdown",
   "metadata": {},
   "source": [
    "#### 2. Average Rainfall \n",
    "\n",
    "Write a program that uses nested loops to collect data and calculate the average rainfall over a period of years. The program should first ask for the number of years. The outer loop will iterate once for each year. The inner loop will iterate twelve times, once for each month. Each iteration of the inner loop will ask the user for the inches of rainfall for that month. After all iterations, the program should display the number of months, the total inches of rainfall, and the average rainfall per month for the entire period. \n"
   ]
  },
  {
   "cell_type": "code",
   "execution_count": null,
   "metadata": {},
   "outputs": [
    {
     "name": "stdout",
     "output_type": "stream",
     "text": [
      "Please enter number of years: 1\n",
      "Please enter rainfall for Jan 5\n",
      "Please enter rainfall for Feb "
     ]
    }
   ],
   "source": [
    "import calendar\n",
    "y = int(input(\"Please enter number of years: \"))\n",
    "r = 0\n",
    "for i in range(1,y+1):\n",
    "    for j in range (1,13):\n",
    "        print(\"Please enter rainfall for\",calendar.month_abbr[j],\":\" ,end=\" \" )\n",
    "        mr = float(input())\n",
    "        r +=  mr\n",
    "nm = y*12\n",
    "ar = r/nm\n",
    "print(\"Total number of months was\",nm)\n",
    "print(\"Total rainfall recorder for this period was\",\"{:.2f}\".format(r))\n",
    "print(\"Average rainfall per month was\",\"{:.2f}\".format(ar))\n",
    "        "
   ]
  },
  {
   "cell_type": "markdown",
   "metadata": {},
   "source": [
    "#### 3. Pennies for Pay \n",
    "\n",
    "Write a program that calculates the amount of money a person would earn over a period of time if his or her salary is one penny the first day, two pennies the second day, and continues to double each day. The program should ask the user for the number of days. Display a table showing what the salary was for each day, then show the total pay at the end of the period. The output should be displayed in a dollar amount, not the number of pennies. "
   ]
  },
  {
   "cell_type": "code",
   "execution_count": 16,
   "metadata": {},
   "outputs": [
    {
     "name": "stdout",
     "output_type": "stream",
     "text": [
      "Please enter number of days: 10\n",
      "Day \t Salary(in $)\n",
      "1 \t 0.01\n",
      "2 \t 0.02\n",
      "3 \t 0.04\n",
      "4 \t 0.08\n",
      "5 \t 0.16\n",
      "6 \t 0.32\n",
      "7 \t 0.64\n",
      "8 \t 1.28\n",
      "9 \t 2.56\n",
      "10 \t 5.12\n",
      "Total salary after 10 days of work is $20.47\n"
     ]
    }
   ],
   "source": [
    "d = int(input(\"Please enter number of days: \"))\n",
    "p = 0.01\n",
    "t = 0.01\n",
    "print(\"Day\",'\\t',\"Salary(in $)\")\n",
    "if d >= 1:\n",
    "    for i in range(1,d+1):\n",
    "        print(i,'\\t',p)      \n",
    "        p *= 2  \n",
    "        t = t+p\n",
    "    \n",
    "print(\"Total salary after %s days of work is $%s\" % (d,\"{:.2f}\".format(t)))\n",
    "\n",
    "    "
   ]
  },
  {
   "cell_type": "markdown",
   "metadata": {},
   "source": [
    "#### 4.  Sum of Numbers \n",
    "\n",
    "Write a program with a loop that asks the user to enter a series of positive numbers. The user should enter a negative number to signal the end of the series. After all the positive numbers have been entered, the program should display their sum. "
   ]
  },
  {
   "cell_type": "code",
   "execution_count": 17,
   "metadata": {},
   "outputs": [
    {
     "name": "stdout",
     "output_type": "stream",
     "text": [
      "Please enter a number: 5\n",
      "Please enter a number: 5\n",
      "Please enter a number: 2.5\n",
      "Please enter a number: 6\n",
      "Please enter a number: .2\n",
      "Please enter a number: -9\n",
      "Sum of the positive numbers entered is 18.70\n"
     ]
    }
   ],
   "source": [
    "n = float(input(\"Please enter a number: \"))\n",
    "s = 0\n",
    "while n >= 0:\n",
    "    s += n\n",
    "    n = float(input(\"Please enter a number: \"))\n",
    "    \n",
    "print(\"Sum of the positive numbers entered is\", \"{:.2f}\".format(s))"
   ]
  },
  {
   "cell_type": "markdown",
   "metadata": {},
   "source": [
    "#### 5.  Ocean Levels \n",
    "\n",
    "Assuming the ocean’s level is currently rising at about 1.6 millimeters per year, create an application that displays the number of millimeters that the ocean will have risen each year for the next 25 years. "
   ]
  },
  {
   "cell_type": "code",
   "execution_count": 27,
   "metadata": {},
   "outputs": [
    {
     "name": "stdout",
     "output_type": "stream",
     "text": [
      "Year \t rise by(in mm)\n",
      "2020 \t 1.60\n",
      "2021 \t 3.20\n",
      "2022 \t 4.80\n",
      "2023 \t 6.40\n",
      "2024 \t 8.00\n",
      "2025 \t 9.60\n",
      "2026 \t 11.20\n",
      "2027 \t 12.80\n",
      "2028 \t 14.40\n",
      "2029 \t 16.00\n",
      "2030 \t 17.60\n",
      "2031 \t 19.20\n",
      "2032 \t 20.80\n",
      "2033 \t 22.40\n",
      "2034 \t 24.00\n",
      "2035 \t 25.60\n",
      "2036 \t 27.20\n",
      "2037 \t 28.80\n",
      "2038 \t 30.40\n",
      "2039 \t 32.00\n",
      "2040 \t 33.60\n",
      "2041 \t 35.20\n",
      "2042 \t 36.80\n",
      "2043 \t 38.40\n",
      "2044 \t 40.00\n"
     ]
    }
   ],
   "source": [
    "print(\"Year\",'\\t',\"rise by(in mm)\")\n",
    "r = 1.6\n",
    "for i in range(1,26):\n",
    "    r = 1.6*i\n",
    "    print(i+2019,'\\t',\"{:.2f}\".format(r))\n"
   ]
  },
  {
   "cell_type": "markdown",
   "metadata": {},
   "source": [
    "#### 6. Weight Loss \n",
    "\n",
    "If a moderately active person cuts their calorie intake by 500 calories a day, they can typically lose about 4 pounds a month. Write a program that lets the user enter their starting weight, then creates and displays a table showing what their expected weight will be at the end of each month for the next 6 months if they stay on this diet. "
   ]
  },
  {
   "cell_type": "code",
   "execution_count": 39,
   "metadata": {},
   "outputs": [
    {
     "name": "stdout",
     "output_type": "stream",
     "text": [
      "Please enter your weight in pounds: 135\n",
      "---------------\n",
      "Month \t Weight\n",
      "1 \t 131.0\n",
      "2 \t 127.0\n",
      "3 \t 123.0\n",
      "4 \t 119.0\n",
      "5 \t 115.0\n",
      "6 \t 111.0\n"
     ]
    }
   ],
   "source": [
    "w = float(input(\"Please enter your weight in pounds: \"))\n",
    "l = 4\n",
    "print(\"---------------\")\n",
    "print(\"Month\",'\\t',\"Weight\")\n",
    "for i in range(1,7):\n",
    "    w -= 4\n",
    "    print(i,'\\t',w)"
   ]
  },
  {
   "cell_type": "markdown",
   "metadata": {},
   "source": [
    "#### 7. Calculating the Factorial of a Number \n",
    "\n",
    "In mathematics, the notation n! represents the factorial of the nonnegative integer n. The factorial of n is the product of all the nonnegative integers from 1 to n. \n",
    "\n",
    "For example\n",
    "\n",
    "7!=1×2×3×4×5×6×7=5,040\n",
    "\n",
    "and \n",
    "\n",
    "4!=1×2×3×4=24 \n",
    "\n",
    "Write a program that lets the user enter a nonnegative integer then uses a loop to calculate the factorial of that number. Display the factorial. \n"
   ]
  },
  {
   "cell_type": "code",
   "execution_count": 2,
   "metadata": {},
   "outputs": [
    {
     "name": "stdout",
     "output_type": "stream",
     "text": [
      "Please enter a positive number: 6\n",
      "720\n"
     ]
    }
   ],
   "source": [
    "n = int(input(\"Please enter a positive number: \"))\n",
    "f = 1\n",
    "if n < 0:\n",
    "    n = int(input(\"Input must be a positive integer\"))\n",
    "elif n > 0:\n",
    "    for i in range(1,n+1):\n",
    "        f *= i\n",
    "    print(f)\n",
    "else:\n",
    "    print(0)\n",
    "    "
   ]
  },
  {
   "cell_type": "markdown",
   "metadata": {},
   "source": [
    "#### 8. Population\n",
    "\n",
    "Write a program that predicts the approximate size of a population of organisms. The application should allow the user to enter the starting number of organisms, the average daily population increase (as a percentage), and the number of days the organisms will be left to multiply. \n",
    "\n",
    "For example, assume the user enters the following values: \n",
    "- Starting number of organisms: 2 \n",
    "- Average daily increase: 30% \n",
    "- Number of days to multiply: 10 \n",
    "\n",
    "The program should display the following table of data:\n",
    "\n",
    "|Day |Approximate Population|\n",
    "|----|----------------------|\n",
    "|1|2|\n",
    "|2 |2.6|\n",
    "|3 |3.38 |\n",
    "|4 |4.394| \n",
    "|5 |5.7122|\n",
    "|6 |7.42586|\n",
    "|7 |9.653619|\n",
    "|8 |12.5497| \n",
    "|9 |16.31462|\n",
    "|10 |21.209|\n",
    "\n"
   ]
  },
  {
   "cell_type": "code",
   "execution_count": 101,
   "metadata": {},
   "outputs": [
    {
     "name": "stdout",
     "output_type": "stream",
     "text": [
      "Starting number of organisms: 2\n",
      "Average daily increase: 30\n",
      "Number of days to multiply: 10\n",
      "\t Day \t Approximate Population \n",
      " \t -------------------------------\n",
      "\t 1 \t 2\n",
      "\t 2 \t 2.6\n",
      "\t 3 \t 3.38\n",
      "\t 4 \t 4.394\n",
      "\t 5 \t 5.7122\n",
      "\t 6 \t 7.4259\n",
      "\t 7 \t 9.6537\n",
      "\t 8 \t 12.5498\n",
      "\t 9 \t 16.3147\n",
      "\t 10 \t 21.2091\n"
     ]
    }
   ],
   "source": [
    "s = int(input(\"Starting number of organisms: \"))\n",
    "p = float(input(\"Average daily increase: \"))\n",
    "d = int(input(\"Number of days to multiply: \"))\n",
    "p = p/100\n",
    "print('\\t',\"Day\",'\\t',\"Approximate Population\",'\\n','\\t',\"-------------------------------\")\n",
    "for i in range(1,d+1):\n",
    "    print('\\t',i,'\\t',s)\n",
    "    s = round(s*(1 + p),4)"
   ]
  },
  {
   "cell_type": "markdown",
   "metadata": {},
   "source": [
    "#### 9.  Write a program that uses nested loops to draw this pattern: \n",
    "\n",
    "<pre>\n",
    "## \n",
    "# #\n",
    "#  #\n",
    "#   #\n",
    "#    #\n",
    "#     #\n",
    "#      #\n",
    "</pre>\n",
    "\n"
   ]
  },
  {
   "cell_type": "code",
   "execution_count": 35,
   "metadata": {},
   "outputs": [
    {
     "name": "stdout",
     "output_type": "stream",
     "text": [
      "##\n",
      "# #\n",
      "#  #\n",
      "#   #\n",
      "#    #\n",
      "#     #\n",
      "#      #\n"
     ]
    }
   ],
   "source": [
    "for i in range(7):\n",
    "    print(\"#\",end = \"\")\n",
    "    for j in range(i):\n",
    "        print(\" \",end = \"\")\n",
    "    print(\"#\")\n",
    "        "
   ]
  },
  {
   "cell_type": "markdown",
   "metadata": {},
   "source": [
    "#### 10. Write a program that uses nested loops to draw this pattern: \n",
    "\n",
    "<pre>\n",
    "******* \n",
    "****** \n",
    "***** \n",
    "**** \n",
    "*** \n",
    "** \n",
    "*\n",
    "</pre>"
   ]
  },
  {
   "cell_type": "code",
   "execution_count": 37,
   "metadata": {},
   "outputs": [
    {
     "name": "stdout",
     "output_type": "stream",
     "text": [
      "*******\n",
      "******\n",
      "*****\n",
      "****\n",
      "***\n",
      "**\n",
      "*\n"
     ]
    }
   ],
   "source": [
    "for i in range(7,0,-1):\n",
    "    for j in range(i):\n",
    "        print('*', end=\"\")\n",
    "    print('')"
   ]
  },
  {
   "cell_type": "markdown",
   "metadata": {},
   "source": [
    "#### 11. Test Average and Grade \n",
    "\n",
    "Write a program that asks the user to enter five test scores. The program should display a letter grade for each score and the average test score. Write the following functions in the program: \n",
    "- calc_average. \n",
    "\n",
    "This function should accept five test scores as arguments and return the average of the scores. \n",
    "- determine_grade. \n",
    "\n",
    "This function should accept a test score as an argument and return a letter grade for the score based on the following grading scale:\n",
    "\n",
    "|Score |Letter Grade |\n",
    "|------|-------------|\n",
    "|90–100| A |\n",
    "|80–89 |B |\n",
    "|70–79 |C |\n",
    "|60–69 |D |\n",
    "|Below 60| F |\n"
   ]
  },
  {
   "cell_type": "code",
   "execution_count": 4,
   "metadata": {},
   "outputs": [
    {
     "name": "stdout",
     "output_type": "stream",
     "text": [
      "Please enter 5 scores seperated by commas: 50,60,75,85,92\n",
      "Average of the scores enter is 72\n",
      "\t Score \t Letter Grade \n",
      " \t ---------------------\n",
      "\t 50.0 \t \t F\n",
      "\t 60.0 \t \t D\n",
      "\t 75.0 \t \t C\n",
      "\t 85.0 \t \t B\n",
      "\t 92.0 \t \t A\n"
     ]
    }
   ],
   "source": [
    "scores = [float(x) for x in input(\"Please enter 5 scores seperated by commas: \").split(\",\")]\n",
    "def calc_average(l):\n",
    "    average = sum(l)/len(l)\n",
    "    return round(average)\n",
    "\n",
    "def determine_grade(s):\n",
    "    if s < 60 and s >= 0:\n",
    "        lg = \"F\"\n",
    "    elif s < 70:\n",
    "        lg = \"D\"\n",
    "    elif s < 80:\n",
    "        lg = \"C\"\n",
    "    elif s < 90:\n",
    "        lg = \"B\"\n",
    "    elif s < 101:\n",
    "        lg = \"A\"\n",
    "    else:\n",
    "        print(\"Please enter valid score\")\n",
    "    return lg\n",
    "\n",
    "print(\"Average of the scores enter is\",calc_average(scores))\n",
    "\n",
    "print('\\t',\"Score\",'\\t',\"Letter Grade\",'\\n','\\t',\"---------------------\")\n",
    "\n",
    "for i in range(len(scores)):\n",
    "    print('\\t',scores[i],'\\t','\\t',determine_grade(scores[i]))"
   ]
  },
  {
   "cell_type": "markdown",
   "metadata": {},
   "source": [
    "#### 12. Random Numbers\n",
    "\n",
    "Write a program that generates 100 random numbers and keeps a count of how many of those random numbers are even, and how many of them are odd. "
   ]
  },
  {
   "cell_type": "code",
   "execution_count": null,
   "metadata": {},
   "outputs": [],
   "source": [
    "import random\n",
    "e = 0\n",
    "nl = []\n",
    "for i in range(100):\n",
    "    n = random.randint(0,1000)\n",
    "    nl.append(n)\n",
    "    if n%2 == 0:\n",
    "        e += 1\n",
    "        \n",
    "print(\"The number of even numbers in the generated 100 random numbers was %s and odd numbers was %s\"%(e,100-e))"
   ]
  },
  {
   "cell_type": "markdown",
   "metadata": {},
   "source": [
    "#### 13 Random Number Guessing Game \n",
    "\n",
    "Write a program that generates a random number in the range of 1 through 100, and asks the user to guess what the number is. If the user’s guess is higher than the random number, the program should display “Too high, try again.” If the user’s guess is lower than the random number, the program should display “Too low, try again.” If the user guesses the number, the application should congratulate the user and generate a new random number so the game can start over. \n",
    "\n",
    "Optional Enhancement: Enhance the game so it keeps count of the number of guesses that the user makes. When the user correctly guesses the random number, the program should display the number of guesses. "
   ]
  },
  {
   "cell_type": "code",
   "execution_count": 5,
   "metadata": {},
   "outputs": [
    {
     "name": "stdout",
     "output_type": "stream",
     "text": [
      "Please guess an integer between 1 - 100: 20\n",
      "Too low, try again.\n",
      "Guess again: 60\n",
      "Too high, try again\n",
      "Guess again: 40\n",
      "Too low, try again.\n",
      "Guess again: 52\n",
      "Too high, try again\n",
      "Guess again: 51\n",
      "Too high, try again\n",
      "Guess again: 45\n",
      "Too low, try again.\n",
      "Guess again: 50\n",
      "Too high, try again\n",
      "Guess again: 48\n",
      "Too high, try again\n",
      "Guess again: 47\n",
      "Congratulation ! You guessed it in 9 tries\n"
     ]
    }
   ],
   "source": [
    "import random\n",
    "\n",
    "def main():\n",
    "    r = random.randint(1,100)\n",
    "    g = int(input(\"Please guess an integer between 1 - 100: \"))\n",
    "    i = 1\n",
    "    while r != g:\n",
    "        i += 1\n",
    "        if r < g:\n",
    "            print(\"Too high, try again\")\n",
    "            g = int(input(\"Guess again: \"))\n",
    "        else:\n",
    "            print(\"Too low, try again.\")\n",
    "            g = int(input(\"Guess again: \"))\n",
    "    return i\n",
    "\n",
    "print(\"Congratulation ! You guessed it in %s tries\"% main())\n",
    "#print(\"Lets start again\",main()) - This would continue the game in a loop\n"
   ]
  }
 ],
 "metadata": {
  "kernelspec": {
   "display_name": "Python 3",
   "language": "python",
   "name": "python3"
  },
  "language_info": {
   "codemirror_mode": {
    "name": "ipython",
    "version": 3
   },
   "file_extension": ".py",
   "mimetype": "text/x-python",
   "name": "python",
   "nbconvert_exporter": "python",
   "pygments_lexer": "ipython3",
   "version": "3.7.4"
  }
 },
 "nbformat": 4,
 "nbformat_minor": 4
}
